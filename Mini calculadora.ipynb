{
 "cells": [
  {
   "cell_type": "markdown",
   "id": "35090946",
   "metadata": {},
   "source": [
    "# Control de versiones con GitHub\n",
    "## Mini calculadora\n",
    "\n",
    "Valle Villegas Jesús Eduardo | A01770616"
   ]
  },
  {
   "cell_type": "code",
   "execution_count": null,
   "id": "86231288",
   "metadata": {},
   "outputs": [],
   "source": [
    "# Hacer una calculadora simple que pida al usuario dos números y una operación (suma, resta, multiplicación, división) y muestre el resultado.\n",
    "\n",
    "# Liberías\n",
    "import sys  \n",
    "import os\n",
    "import math\n",
    "import random\n",
    "import time\n",
    "import datetime\n",
    "import re\n",
    "import numpy as np\n",
    "import pandas as pd\n",
    "import matplotlib.pyplot as plt\n",
    "import seaborn as sns     \n"
   ]
  },
  {
   "cell_type": "code",
   "execution_count": null,
   "id": "1dd0675e",
   "metadata": {},
   "outputs": [],
   "source": [
    "# Empezamos con la caluculadora:\n",
    "def calculadora():\n",
    "    print(\"Bienvenido a tú calculadora\")\n",
    "    \n",
    "    # Pedir al usuario dos números\n",
    "    try:\n",
    "        num1 = float(input(\"Por favor, ingresa el primer número: \"))\n",
    "        num2 = float(input(\"Por favor, ingresa el segundo número: \"))\n",
    "    except ValueError:\n",
    "        print(\"Entrada inválida. Por favor, ingresa números válidos.\")\n",
    "        return\n",
    "    \n",
    "    # Pedir al usuario una operación\n",
    "    operacion = input(\"Por favor, ingresa la operación (suma, resta, multiplicación, división): \").strip().lower()\n",
    "\n",
    "    print(\"Calculando...\")"
   ]
  }
 ],
 "metadata": {
  "kernelspec": {
   "display_name": "Analitica",
   "language": "python",
   "name": "python3"
  },
  "language_info": {
   "name": "python",
   "version": "3.12.11"
  }
 },
 "nbformat": 4,
 "nbformat_minor": 5
}
