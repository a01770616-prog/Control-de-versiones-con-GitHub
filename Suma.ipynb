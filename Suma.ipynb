{
 "cells": [
  {
   "cell_type": "code",
   "execution_count": null,
   "id": "1cdde53f",
   "metadata": {},
   "outputs": [
    {
     "name": "stdout",
     "output_type": "stream",
     "text": [
      "Bienvenido a tu calculadora\n",
      "El resultado de la suma es: 2334.0\n"
     ]
    }
   ],
   "source": [
    "\n",
    "    # Realizar la suma\n",
    "    resultado = num1 + num2\n",
    "    print(f\"El resultado de la suma es: {resultado}\")\n",
    "\n",
    "# Llamar a la función\n",
    "calculadora()\n",
    "# cambio\n",
    "print(calculadora())"
   ]
  },
  {
   "cell_type": "code",
   "execution_count": null,
   "id": "af29a064",
   "metadata": {},
   "outputs": [],
   "source": []
  }
 ],
 "metadata": {
  "kernelspec": {
   "display_name": "Analitica",
   "language": "python",
   "name": "python3"
  },
  "language_info": {
   "codemirror_mode": {
    "name": "ipython",
    "version": 3
   },
   "file_extension": ".py",
   "mimetype": "text/x-python",
   "name": "python",
   "nbconvert_exporter": "python",
   "pygments_lexer": "ipython3",
   "version": "3.12.11"
  }
 },
 "nbformat": 4,
 "nbformat_minor": 5
}
